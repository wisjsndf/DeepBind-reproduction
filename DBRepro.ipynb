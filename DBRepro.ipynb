{
 "cells": [
  {
   "cell_type": "markdown",
   "id": "b4fba772",
   "metadata": {},
   "source": [
    "# DeepBind Reproduction\n",
    "## PBM Dataset\n",
    "### PBM 数据集  \n",
    "<b> (1)sequences.tsv.gz </b>  \n",
    "一列或多列的tsv,每行对应一个短序列(一个probe)   \n",
    "<b> (2)targets.tsv.gz </b>  \n",
    "对于sequences.tsv.gz的强度表，每一行对应一个probe,每一列对应一个TF  \n",
    "<b> (3)tfids.txt </b>  \n",
    "一行一个TFid  \n",
    "\n",
    "\n"
   ]
  },
  {
   "cell_type": "code",
   "execution_count": 1,
   "id": "3dd9dfa5",
   "metadata": {},
   "outputs": [
    {
     "name": "stdout",
     "output_type": "stream",
     "text": [
      "Found TF ids (first 20): ['TF_1', 'TF_2', 'TF_3', 'TF_4', 'TF_5', 'TF_6', 'TF_7', 'TF_8', 'TF_9', 'TF_10', 'TF_11', 'TF_12', 'TF_13', 'TF_14', 'TF_15', 'TF_16', 'TF_17', 'TF_18', 'TF_19', 'TF_20']\n",
      "Total TF columns: 86\n",
      "sequences shape: (80857, 3)\n",
      "first rows:\n",
      "          0               1                                         2\n",
      "0  Fold ID        Event ID                                       seq\n",
      "1        B  MEreverse14075  TAAAACTATGAGGAAGGATTCAGGGTCGGACAGTGCCTGT\n",
      "2        B  MEforward19438  CTTATGATCAGAAGCGGCTAGGTGTATTACATGTCCCTGT\n",
      "3        B  MEforward19439  CCGCCGTAGGCCCCGAAACAGTACCAGACATGTAACCTGT\n",
      "4        B  MEforward19436  GACCAAACGAGTCCTAGGATTCCAAGCGTTACGACCCTGT\n",
      "targets shape: (80856, 86)\n",
      "targets columns: Index(['TF_40', 'TF_41', 'TF_42', 'TF_43', 'TF_44', 'TF_45', 'TF_46', 'TF_47',\n",
      "       'TF_48', 'TF_49', 'TF_7', 'TF_6', 'TF_5', 'TF_4', 'TF_3', 'TF_2',\n",
      "       'TF_1', 'TF_9', 'TF_8', 'TF_35'],\n",
      "      dtype='object')\n",
      "first rows:\n",
      "          TF_40         TF_41        TF_42        TF_43        TF_44  \\\n",
      "0   823.914118  12702.625538  2124.023125  2314.305782  1474.888697   \n",
      "1  1307.840222   4316.426121  2554.658908  3415.320661  3408.586803   \n",
      "2  1188.353499   3436.803941  2088.909658  3708.324021  2219.741833   \n",
      "3  1806.103795   6531.268855  2406.186212  3601.204703  2828.415329   \n",
      "4  1417.411525   3951.243575  2581.309532  3375.884699  2764.716964   \n",
      "\n",
      "         TF_45        TF_46         TF_47        TF_48         TF_49  ...  \\\n",
      "0  1131.785521  4597.003319  14589.890994  1556.951404  34180.775942  ...   \n",
      "1  1697.342725  5272.763446  22903.130555  2181.551097  10000.297243  ...   \n",
      "2  1571.646567  6225.376501  13858.014077  1971.053716  18800.025304  ...   \n",
      "3  2746.861783  5810.104650  25701.749693  2191.273065  19213.880658  ...   \n",
      "4  1806.919566  5033.976283  26364.859152  2311.790793  16139.097553  ...   \n",
      "\n",
      "          C_19         C_18         C_15         C_14          C_17  \\\n",
      "0  1651.254953  1242.303363   724.105850  3184.883349   8935.394363   \n",
      "1  3505.604759  2516.000120  1640.114829  3463.713253  19535.468264   \n",
      "2  3270.572883  1693.419147   997.792996  3196.992198  16695.027604   \n",
      "3  2701.555739  2059.614815  1432.163042  4927.163643  18896.765835   \n",
      "4  2457.214141  1901.709222  1672.531034  3877.787322  14699.253953   \n",
      "\n",
      "           C_16          C_11          C_10          C_13         C_12  \n",
      "0  12689.558779   4102.312624    505.126184  12946.381724  1313.790253  \n",
      "1  18006.721690   6890.427794   1402.597000  38309.856355  3024.107809  \n",
      "2  14486.992627  13517.968701  10680.866586  25648.825592  2675.530918  \n",
      "3  18784.043322   8608.167421   4624.044391  23651.726053  3679.449867  \n",
      "4  17119.871513   8995.328144  12641.425965  27999.405431  3128.844808  \n",
      "\n",
      "[5 rows x 86 columns]\n",
      "npz keys: ['A', 'B']\n",
      "A (40330,) float64\n",
      "sample: [2654.937923  3041.923394  2373.6399365 1685.173616  3740.6147665]\n",
      "B (40526,) float64\n",
      "sample: [2641.988164  4170.2475    3699.8877625 4622.249988  3877.787322 ]\n"
     ]
    },
    {
     "name": "stderr",
     "output_type": "stream",
     "text": [
      "/tmp/ipykernel_27875/377958945.py:29: UserWarning: Reading `.npy` or `.npz` file required additional header parsing as it was created on Python 2. Save the file again to speed up loading and avoid this warning.\n",
      "  arr = npz[k]\n"
     ]
    }
   ],
   "source": [
    "import numpy as np\n",
    "import pandas as pd\n",
    "import gzip\n",
    "\n",
    "# 1) 看 tfids.txt\n",
    "with open('../DeepBind/data/dream5/pbm/tfids.txt', 'r') as f:\n",
    "    tfids = [ln.strip() for ln in f if ln.strip()]\n",
    "print(\"Found TF ids (first 20):\", tfids[:20])\n",
    "print(\"Total TF columns:\", len(tfids))\n",
    "\n",
    "# 2) 读 sequences.tsv.gz（如果每行是序列）\n",
    "seqs = pd.read_csv('../DeepBind/data/dream5/pbm/sequences.tsv.gz', sep='\\t', header=None, compression='gzip', engine='python')\n",
    "print(\"sequences shape:\", seqs.shape)\n",
    "print(\"first rows:\\n\", seqs.head())\n",
    "\n",
    "# 常见：如果只有一列，序列在第0列\n",
    "# seqs[0].head()\n",
    "\n",
    "# 3) 读 targets.tsv.gz（检查列名/形状）\n",
    "targets = pd.read_csv('../DeepBind/data/dream5/pbm/targets.tsv.gz', sep='\\t', header=0, compression='gzip', engine='python')\n",
    "print(\"targets shape:\", targets.shape)\n",
    "print(\"targets columns:\", targets.columns[:20])\n",
    "print(\"first rows:\\n\", targets.head())\n",
    "\n",
    "# 4) 检查 probe_biases.npz\n",
    "npz = np.load('../DeepBind/data/dream5/pbm/probe_biases.npz', allow_pickle=True)\n",
    "print(\"npz keys:\", list(npz.keys()))\n",
    "for k in npz:\n",
    "    arr = npz[k]\n",
    "    print(k, arr.shape, arr.dtype)\n",
    "    print(\"sample:\", arr[:5])"
   ]
  },
  {
   "cell_type": "markdown",
   "id": "1084322d",
   "metadata": {},
   "source": [
    "用pbm.py处理pbm数据集"
   ]
  },
  {
   "cell_type": "code",
   "execution_count": 3,
   "id": "98e14616",
   "metadata": {},
   "outputs": [
    {
     "name": "stdout",
     "output_type": "stream",
     "text": [
      "xb shape: torch.Size([4, 4, 36])\n",
      "yb shape: torch.Size([4])\n",
      "yb: tensor([ 532.3791, 1436.0115,  712.4257,  546.6063], dtype=torch.float64)\n"
     ]
    }
   ],
   "source": [
    "from torch.utils.data import DataLoader\n",
    "from data.pbm import PBMDataset\n",
    "import torch\n",
    "\n",
    "seq_file = '../DeepBind/data/dream5/pbm/sequences.tsv.gz'\n",
    "tgt_file = '../DeepBind/data/dream5/pbm/targets.tsv.gz'\n",
    "tf_col = 'TF_1'\n",
    "\n",
    "dataset = PBMDataset(seq_file, tgt_file, tf_col=tf_col, max_len=36)\n",
    "\n",
    "loader = DataLoader(dataset, batch_size=4, shuffle=True)\n",
    "\n",
    "for xb, yb in loader:\n",
    "    print(\"xb shape:\", xb.shape)\n",
    "    print(\"yb shape:\", yb.shape)\n",
    "    print(\"yb:\", yb)\n",
    "    break\n",
    "\n"
   ]
  },
  {
   "cell_type": "code",
   "execution_count": 5,
   "id": "55af19c6",
   "metadata": {},
   "outputs": [
    {
     "name": "stdout",
     "output_type": "stream",
     "text": [
      "Available TFs: ['TF_1', 'TF_2', 'TF_3', 'TF_4', 'TF_5', 'TF_6', 'TF_7', 'TF_8', 'TF_9', 'TF_10', 'TF_11', 'TF_12', 'TF_13', 'TF_14', 'TF_15', 'TF_16', 'TF_17', 'TF_18', 'TF_19', 'TF_20', 'TF_21', 'TF_22', 'TF_23', 'TF_24', 'TF_25', 'TF_26', 'TF_27', 'TF_28', 'TF_29', 'TF_30', 'TF_31', 'TF_32', 'TF_33', 'TF_34', 'TF_35', 'TF_36', 'TF_37', 'TF_38', 'TF_39', 'TF_40', 'TF_41', 'TF_42', 'TF_43', 'TF_44', 'TF_45', 'TF_46', 'TF_47', 'TF_48', 'TF_49', 'TF_50']\n"
     ]
    }
   ],
   "source": [
    "with open('../DeepBind/data/dream5/pbm/tfids.txt') as f:\n",
    "    tfids = [l.strip() for l in f if l.strip()]\n",
    "    print(\"Available TFs:\", tfids[:50])"
   ]
  },
  {
   "cell_type": "code",
   "execution_count": 5,
   "id": "cfe0b449",
   "metadata": {
    "vscode": {
     "languageId": "shellscript"
    }
   },
   "outputs": [
    {
     "name": "stderr",
     "output_type": "stream",
     "text": [
      "Traceback (most recent call last):\n",
      "  File \"/home/syl/TFBS_prediction/my_repro/train.py\", line 322, in <module>\n",
      "    main()\n",
      "  File \"/home/syl/TFBS_prediction/my_repro/train.py\", line 253, in main\n",
      "    score = cv_score(rest_ds, hp, device, binary=False)\n",
      "  File \"/home/syl/TFBS_prediction/my_repro/train.py\", line 194, in cv_score\n",
      "    for xb, yb in train_dl:\n",
      "  File \"/home/syl/anaconda3/envs/tfbs/lib/python3.9/site-packages/torch/utils/data/dataloader.py\", line 734, in __next__\n",
      "    data = self._next_data()\n",
      "  File \"/home/syl/anaconda3/envs/tfbs/lib/python3.9/site-packages/torch/utils/data/dataloader.py\", line 790, in _next_data\n",
      "    data = self._dataset_fetcher.fetch(index)  # may raise StopIteration\n",
      "  File \"/home/syl/anaconda3/envs/tfbs/lib/python3.9/site-packages/torch/utils/data/_utils/fetch.py\", line 50, in fetch\n",
      "    data = self.dataset.__getitems__(possibly_batched_index)\n",
      "  File \"/home/syl/anaconda3/envs/tfbs/lib/python3.9/site-packages/torch/utils/data/dataset.py\", line 414, in __getitems__\n",
      "    return self.dataset.__getitems__([self.indices[idx] for idx in indices])  # type: ignore[attr-defined]\n",
      "  File \"/home/syl/anaconda3/envs/tfbs/lib/python3.9/site-packages/torch/utils/data/dataset.py\", line 416, in __getitems__\n",
      "    return [self.dataset[self.indices[idx]] for idx in indices]\n",
      "  File \"/home/syl/anaconda3/envs/tfbs/lib/python3.9/site-packages/torch/utils/data/dataset.py\", line 416, in <listcomp>\n",
      "    return [self.dataset[self.indices[idx]] for idx in indices]\n",
      "  File \"/home/syl/TFBS_prediction/my_repro/data/pbm.py\", line 22, in __getitem__\n",
      "    x = one_hot_encode(seq, self.max_len)\n",
      "  File \"/home/syl/TFBS_prediction/my_repro/utils.py\", line 10, in one_hot_encode\n",
      "    mat[idx, i] = 1.0\n",
      "KeyboardInterrupt\n"
     ]
    },
    {
     "name": "stdout",
     "output_type": "stream",
     "text": [
      "Error while terminating subprocess (pid=14140): \n"
     ]
    }
   ],
   "source": [
    "%%bash\n",
    "python train.py \\\n",
    "  --data_type PBM \\\n",
    "  --seq_file ../DeepBind/data/dream5/pbm/sequences.tsv.gz \\\n",
    "  --tgt_file ../DeepBind/data/dream5/pbm/targets.tsv.gz \\\n",
    "  --tf_col TF_1 \\\n",
    "  --max_len 36 \\\n",
    "  --epochs 20 \\\n",
    "  --device cuda"
   ]
  },
  {
   "cell_type": "markdown",
   "id": "9e5a9111",
   "metadata": {},
   "source": []
  },
  {
   "cell_type": "code",
   "execution_count": 4,
   "id": "17a2f28d",
   "metadata": {
    "vscode": {
     "languageId": "shellscript"
    }
   },
   "outputs": [
    {
     "name": "stdout",
     "output_type": "stream",
     "text": [
      "Training on TF_23_CHIP_100_dinuc.seq ...\n",
      "[Calib 01/30] hp={'lr': 0.0005197010971552333, 'weight_decay': 2.6846351535304474e-05, 'batch_size': 128, 'num_kernels': 8, 'kernel_size': 36, 'fc_hidden': 64} CV_score=0.0366\n",
      "[Calib 02/30] hp={'lr': 0.0027441525887873237, 'weight_decay': 3.0153015189842353e-06, 'batch_size': 64, 'num_kernels': 32, 'kernel_size': 36, 'fc_hidden': 64} CV_score=0.0734\n",
      "[Calib 03/30] hp={'lr': 0.00048265158720140806, 'weight_decay': 3.808570266314045e-06, 'batch_size': 64, 'num_kernels': 32, 'kernel_size': 36, 'fc_hidden': 64} CV_score=0.0080\n",
      "[Calib 04/30] hp={'lr': 0.005254051882727946, 'weight_decay': 0.0006056060838808088, 'batch_size': 64, 'num_kernels': 16, 'kernel_size': 12, 'fc_hidden': 16} CV_score=0.0621\n",
      "[Calib 05/30] hp={'lr': 0.00953275883311439, 'weight_decay': 0.00017639123243324322, 'batch_size': 128, 'num_kernels': 16, 'kernel_size': 12, 'fc_hidden': 32} CV_score=0.0244\n",
      "[Calib 06/30] hp={'lr': 0.006721222492655391, 'weight_decay': 0.0003769585617800299, 'batch_size': 128, 'num_kernels': 8, 'kernel_size': 12, 'fc_hidden': 32} CV_score=-0.0131\n",
      "[Calib 07/30] hp={'lr': 0.00010287797130512102, 'weight_decay': 1.0204385056824575e-05, 'batch_size': 32, 'num_kernels': 8, 'kernel_size': 24, 'fc_hidden': 32} CV_score=0.0027\n",
      "[Calib 08/30] hp={'lr': 0.0007619447504469781, 'weight_decay': 1.6203102093035313e-06, 'batch_size': 64, 'num_kernels': 16, 'kernel_size': 12, 'fc_hidden': 16} CV_score=-0.0272\n",
      "[Calib 09/30] hp={'lr': 0.00014480855707716815, 'weight_decay': 2.545794755496432e-06, 'batch_size': 128, 'num_kernels': 32, 'kernel_size': 36, 'fc_hidden': 16} CV_score=0.0006\n",
      "[Calib 10/30] hp={'lr': 0.003648598296882718, 'weight_decay': 3.3795144844335416e-05, 'batch_size': 64, 'num_kernels': 16, 'kernel_size': 12, 'fc_hidden': 16} CV_score=0.0674\n",
      "[Calib 11/30] hp={'lr': 0.0001627375810744415, 'weight_decay': 1.6328438674825871e-06, 'batch_size': 64, 'num_kernels': 16, 'kernel_size': 36, 'fc_hidden': 32} CV_score=-0.0087\n",
      "[Calib 12/30] hp={'lr': 0.00024780396743408754, 'weight_decay': 2.3943521100189364e-05, 'batch_size': 64, 'num_kernels': 32, 'kernel_size': 36, 'fc_hidden': 64} CV_score=0.0319\n",
      "[Calib 13/30] hp={'lr': 0.0054852684336259595, 'weight_decay': 0.0001660734974150336, 'batch_size': 64, 'num_kernels': 8, 'kernel_size': 12, 'fc_hidden': 32} CV_score=0.1345\n",
      "[Calib 14/30] hp={'lr': 0.00021533884800154662, 'weight_decay': 0.0003752406500021708, 'batch_size': 32, 'num_kernels': 8, 'kernel_size': 24, 'fc_hidden': 16} CV_score=0.0427\n",
      "[Calib 15/30] hp={'lr': 0.0006295094392671857, 'weight_decay': 2.0996580604824055e-06, 'batch_size': 32, 'num_kernels': 32, 'kernel_size': 12, 'fc_hidden': 16} CV_score=0.1243\n",
      "[Calib 16/30] hp={'lr': 0.0003094113411054238, 'weight_decay': 0.0001343872735626728, 'batch_size': 128, 'num_kernels': 8, 'kernel_size': 36, 'fc_hidden': 64} CV_score=-0.0176\n",
      "[Calib 17/30] hp={'lr': 0.008494819801143891, 'weight_decay': 0.0001304121454653726, 'batch_size': 128, 'num_kernels': 8, 'kernel_size': 12, 'fc_hidden': 32} CV_score=0.0529\n",
      "[Calib 18/30] hp={'lr': 0.0012802849232132307, 'weight_decay': 2.131815758901384e-06, 'batch_size': 128, 'num_kernels': 16, 'kernel_size': 12, 'fc_hidden': 64} CV_score=0.0609\n",
      "[Calib 19/30] hp={'lr': 0.0002305226188364016, 'weight_decay': 0.00010377378678977057, 'batch_size': 128, 'num_kernels': 16, 'kernel_size': 36, 'fc_hidden': 64} CV_score=-0.0076\n",
      "[Calib 20/30] hp={'lr': 0.00268022408643674, 'weight_decay': 1.7487060951843687e-05, 'batch_size': 32, 'num_kernels': 32, 'kernel_size': 12, 'fc_hidden': 16} CV_score=0.1086\n",
      "[Calib 21/30] hp={'lr': 0.00013215336670428118, 'weight_decay': 1.1419326406619993e-05, 'batch_size': 32, 'num_kernels': 8, 'kernel_size': 12, 'fc_hidden': 64} CV_score=-0.0735\n"
     ]
    },
    {
     "name": "stderr",
     "output_type": "stream",
     "text": [
      "Traceback (most recent call last):\n",
      "  File \"/home/syl/TFBS_prediction/my_repro/train.py\", line 165, in <module>\n",
      "    main()\n",
      "  File \"/home/syl/TFBS_prediction/my_repro/train.py\", line 117, in main\n",
      "    score = cv_score(rest_ds, hp, device, binary=False)\n",
      "  File \"/home/syl/TFBS_prediction/my_repro/train.py\", line 79, in cv_score\n",
      "    for xb, yb in train_dl:\n",
      "  File \"/home/syl/anaconda3/envs/tfbs/lib/python3.9/site-packages/torch/utils/data/dataloader.py\", line 734, in __next__\n",
      "    data = self._next_data()\n",
      "  File \"/home/syl/anaconda3/envs/tfbs/lib/python3.9/site-packages/torch/utils/data/dataloader.py\", line 790, in _next_data\n",
      "    data = self._dataset_fetcher.fetch(index)  # may raise StopIteration\n",
      "  File \"/home/syl/anaconda3/envs/tfbs/lib/python3.9/site-packages/torch/utils/data/_utils/fetch.py\", line 50, in fetch\n",
      "    data = self.dataset.__getitems__(possibly_batched_index)\n",
      "  File \"/home/syl/anaconda3/envs/tfbs/lib/python3.9/site-packages/torch/utils/data/dataset.py\", line 414, in __getitems__\n",
      "    return self.dataset.__getitems__([self.indices[idx] for idx in indices])  # type: ignore[attr-defined]\n",
      "  File \"/home/syl/anaconda3/envs/tfbs/lib/python3.9/site-packages/torch/utils/data/dataset.py\", line 416, in __getitems__\n",
      "    return [self.dataset[self.indices[idx]] for idx in indices]\n",
      "  File \"/home/syl/anaconda3/envs/tfbs/lib/python3.9/site-packages/torch/utils/data/dataset.py\", line 416, in <listcomp>\n",
      "    return [self.dataset[self.indices[idx]] for idx in indices]\n",
      "  File \"/home/syl/TFBS_prediction/my_repro/data/chipseq.py\", line 72, in __getitem__\n",
      "    x = one_hot_encode(seq, self.max_len)\n",
      "  File \"/home/syl/TFBS_prediction/my_repro/utils.py\", line 10, in one_hot_encode\n",
      "    mat[idx, i] = 1.0\n",
      "KeyboardInterrupt\n"
     ]
    },
    {
     "name": "stdout",
     "output_type": "stream",
     "text": [
      "Error while terminating subprocess (pid=33558): \n"
     ]
    }
   ],
   "source": [
    "%%bash\n",
    "mkdir -p out\n",
    "for f in ../DeepBind/data/dream5/chipseq/*.seq; do\n",
    "  base=$(basename \"$f\" .tsv)\n",
    "  echo \"Training on $base ...\"\n",
    "  python train.py --data_type ChIPSeq --seq_file \"$f\" --max_len 101 --epochs 10 --device cuda\n",
    "  mv deepbind.final.pth out/deepbind_${base}.pth\n",
    "done"
   ]
  },
  {
   "cell_type": "code",
   "execution_count": null,
   "id": "3acb53ce",
   "metadata": {
    "vscode": {
     "languageId": "shellscript"
    }
   },
   "outputs": [
    {
     "ename": "CalledProcessError",
     "evalue": "Command 'b'strings $(find $CONDA_PREFIX -name \"libstdc++.so.6\") | grep CXXABI\\n'' returned non-zero exit status 1.",
     "output_type": "error",
     "traceback": [
      "\u001b[0;31m---------------------------------------------------------------------------\u001b[0m",
      "\u001b[0;31mCalledProcessError\u001b[0m                        Traceback (most recent call last)",
      "Input \u001b[0;32mIn [5]\u001b[0m, in \u001b[0;36m<cell line: 1>\u001b[0;34m()\u001b[0m\n\u001b[0;32m----> 1\u001b[0m \u001b[43mget_ipython\u001b[49m\u001b[43m(\u001b[49m\u001b[43m)\u001b[49m\u001b[38;5;241;43m.\u001b[39;49m\u001b[43mrun_cell_magic\u001b[49m\u001b[43m(\u001b[49m\u001b[38;5;124;43m'\u001b[39;49m\u001b[38;5;124;43mbash\u001b[39;49m\u001b[38;5;124;43m'\u001b[39;49m\u001b[43m,\u001b[49m\u001b[43m \u001b[49m\u001b[38;5;124;43m'\u001b[39;49m\u001b[38;5;124;43m'\u001b[39;49m\u001b[43m,\u001b[49m\u001b[43m \u001b[49m\u001b[38;5;124;43m'\u001b[39;49m\u001b[38;5;124;43mstrings $(find $CONDA_PREFIX -name \u001b[39;49m\u001b[38;5;124;43m\"\u001b[39;49m\u001b[38;5;124;43mlibstdc++.so.6\u001b[39;49m\u001b[38;5;124;43m\"\u001b[39;49m\u001b[38;5;124;43m) | grep CXXABI\u001b[39;49m\u001b[38;5;130;43;01m\\n\u001b[39;49;00m\u001b[38;5;124;43m'\u001b[39;49m\u001b[43m)\u001b[49m\n",
      "File \u001b[0;32m~/anaconda3/envs/tfbs/lib/python3.9/site-packages/IPython/core/interactiveshell.py:2358\u001b[0m, in \u001b[0;36mInteractiveShell.run_cell_magic\u001b[0;34m(self, magic_name, line, cell)\u001b[0m\n\u001b[1;32m   2356\u001b[0m \u001b[38;5;28;01mwith\u001b[39;00m \u001b[38;5;28mself\u001b[39m\u001b[38;5;241m.\u001b[39mbuiltin_trap:\n\u001b[1;32m   2357\u001b[0m     args \u001b[38;5;241m=\u001b[39m (magic_arg_s, cell)\n\u001b[0;32m-> 2358\u001b[0m     result \u001b[38;5;241m=\u001b[39m \u001b[43mfn\u001b[49m\u001b[43m(\u001b[49m\u001b[38;5;241;43m*\u001b[39;49m\u001b[43margs\u001b[49m\u001b[43m,\u001b[49m\u001b[43m \u001b[49m\u001b[38;5;241;43m*\u001b[39;49m\u001b[38;5;241;43m*\u001b[39;49m\u001b[43mkwargs\u001b[49m\u001b[43m)\u001b[49m\n\u001b[1;32m   2359\u001b[0m \u001b[38;5;28;01mreturn\u001b[39;00m result\n",
      "File \u001b[0;32m~/anaconda3/envs/tfbs/lib/python3.9/site-packages/IPython/core/magics/script.py:153\u001b[0m, in \u001b[0;36mScriptMagics._make_script_magic.<locals>.named_script_magic\u001b[0;34m(line, cell)\u001b[0m\n\u001b[1;32m    151\u001b[0m \u001b[38;5;28;01melse\u001b[39;00m:\n\u001b[1;32m    152\u001b[0m     line \u001b[38;5;241m=\u001b[39m script\n\u001b[0;32m--> 153\u001b[0m \u001b[38;5;28;01mreturn\u001b[39;00m \u001b[38;5;28;43mself\u001b[39;49m\u001b[38;5;241;43m.\u001b[39;49m\u001b[43mshebang\u001b[49m\u001b[43m(\u001b[49m\u001b[43mline\u001b[49m\u001b[43m,\u001b[49m\u001b[43m \u001b[49m\u001b[43mcell\u001b[49m\u001b[43m)\u001b[49m\n",
      "File \u001b[0;32m~/anaconda3/envs/tfbs/lib/python3.9/site-packages/IPython/core/magics/script.py:305\u001b[0m, in \u001b[0;36mScriptMagics.shebang\u001b[0;34m(self, line, cell)\u001b[0m\n\u001b[1;32m    300\u001b[0m \u001b[38;5;28;01mif\u001b[39;00m args\u001b[38;5;241m.\u001b[39mraise_error \u001b[38;5;129;01mand\u001b[39;00m p\u001b[38;5;241m.\u001b[39mreturncode \u001b[38;5;241m!=\u001b[39m \u001b[38;5;241m0\u001b[39m:\n\u001b[1;32m    301\u001b[0m     \u001b[38;5;66;03m# If we get here and p.returncode is still None, we must have\u001b[39;00m\n\u001b[1;32m    302\u001b[0m     \u001b[38;5;66;03m# killed it but not yet seen its return code. We don't wait for it,\u001b[39;00m\n\u001b[1;32m    303\u001b[0m     \u001b[38;5;66;03m# in case it's stuck in uninterruptible sleep. -9 = SIGKILL\u001b[39;00m\n\u001b[1;32m    304\u001b[0m     rc \u001b[38;5;241m=\u001b[39m p\u001b[38;5;241m.\u001b[39mreturncode \u001b[38;5;129;01mor\u001b[39;00m \u001b[38;5;241m-\u001b[39m\u001b[38;5;241m9\u001b[39m\n\u001b[0;32m--> 305\u001b[0m     \u001b[38;5;28;01mraise\u001b[39;00m CalledProcessError(rc, cell)\n",
      "\u001b[0;31mCalledProcessError\u001b[0m: Command 'b'strings $(find $CONDA_PREFIX -name \"libstdc++.so.6\") | grep CXXABI\\n'' returned non-zero exit status 1."
     ]
    }
   ],
   "source": [
    "%%bash\n",
    "strings $(find $CONDA_PREFIX -name \"libstdc++.so.6\") | grep CXXABI\n"
   ]
  }
 ],
 "metadata": {
  "kernelspec": {
   "display_name": "tfbs",
   "language": "python",
   "name": "python3"
  },
  "language_info": {
   "codemirror_mode": {
    "name": "ipython",
    "version": 3
   },
   "file_extension": ".py",
   "mimetype": "text/x-python",
   "name": "python",
   "nbconvert_exporter": "python",
   "pygments_lexer": "ipython3",
   "version": "3.9.18"
  }
 },
 "nbformat": 4,
 "nbformat_minor": 5
}
